{
 "cells": [
  {
   "cell_type": "code",
   "execution_count": null,
   "id": "6371047d",
   "metadata": {},
   "outputs": [],
   "source": [
    "import pickle\n",
    "import pandas as pd\n",
    "import os\n",
    "\n",
    "pkl_path = 'hw2/all_data_p2.pkl'\n",
    "\n",
    "with open(pkl_path, 'rb') as f:\n",
    "\talldata = pickle.load(f)\n",
    "\n",
    "names = [\"namelist\", \"isinlist\", \"merged_data\", \"instrumentlist\"]\n",
    "for i, item in enumerate(alldata):\n",
    "    var_name = names[i] if i < len(names) else f\"item_{i}\"\n",
    "    globals()[var_name] = item\n"
   ]
  },
  {
   "cell_type": "code",
   "execution_count": 52,
   "id": "2f7da5ee",
   "metadata": {},
   "outputs": [
    {
     "data": {
      "text/plain": [
       "<StringArray>\n",
       "[    'SOLB.BR',     'ACKB.BR',     'ARGX.BR',     'PROX.BR',     'INGA.AS',\n",
       "    'ONTEX.BR',     'APAM.AS', 'TNET.BR^J23',     'WDPP.BR',     'GBLB.BR',\n",
       " ...\n",
       "      'NKT.CO',     'ZELA.CO',    'MANTA.HE',     'ESSF.PA',     'MAUP.PA',\n",
       "      'PLX.PA',    'MEDCL.PA',     'PLNW.PA',     'WAWI.OL',    'SAABb.ST']\n",
       "Length: 411, dtype: string"
      ]
     },
     "execution_count": 52,
     "metadata": {},
     "output_type": "execute_result"
    }
   ],
   "source": [
    "unique_stocks = merged_data['RIC'].unique()\n",
    "n = len(unique_stocks)\n",
    "\n",
    "unique_stocks"
   ]
  },
  {
   "cell_type": "code",
   "execution_count": null,
   "id": "5524ba6e",
   "metadata": {},
   "outputs": [],
   "source": []
  }
 ],
 "metadata": {
  "kernelspec": {
   "display_name": "Python 3",
   "language": "python",
   "name": "python3"
  },
  "language_info": {
   "codemirror_mode": {
    "name": "ipython",
    "version": 3
   },
   "file_extension": ".py",
   "mimetype": "text/x-python",
   "name": "python",
   "nbconvert_exporter": "python",
   "pygments_lexer": "ipython3",
   "version": "3.13.3"
  }
 },
 "nbformat": 4,
 "nbformat_minor": 5
}
