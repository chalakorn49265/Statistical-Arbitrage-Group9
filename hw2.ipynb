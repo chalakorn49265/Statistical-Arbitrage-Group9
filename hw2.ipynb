{
 "cells": [
  {
   "cell_type": "code",
   "execution_count": 14,
   "id": "6371047d",
   "metadata": {},
   "outputs": [],
   "source": [
    "import pickle\n",
    "import pandas as pd\n",
    "import os\n",
    "\n",
    "# Adjust path if the file is in a different folder\n",
    "pkl_path = 'hw2/all_data_p2.pkl'\n",
    "\n",
    "with open(pkl_path, 'rb') as f:\n",
    "\talldata = pickle.load(f)\n"
   ]
  },
  {
   "cell_type": "code",
   "execution_count": 33,
   "id": "2f7da5ee",
   "metadata": {},
   "outputs": [
    {
     "name": "stdout",
     "output_type": "stream",
     "text": [
      "Assigned namelist (type=<class 'pandas.core.frame.DataFrame'>)\n",
      "Assigned isinlist (type=<class 'pandas.core.frame.DataFrame'>)\n",
      "Assigned merged_data (type=<class 'pandas.core.frame.DataFrame'>)\n",
      "Assigned instrumentlist (type=<class 'pandas.core.frame.DataFrame'>)\n"
     ]
    }
   ],
   "source": [
    "names = [\"namelist\", \"isinlist\", \"merged_data\", \"instrumentlist\"]\n",
    "for i, item in enumerate(alldata):\n",
    "    var_name = names[i] if i < len(names) else f\"item_{i}\"\n",
    "    globals()[var_name] = item\n",
    "    print(f\"Assigned {var_name} (type={type(item)})\")"
   ]
  },
  {
   "cell_type": "code",
   "execution_count": null,
   "id": "0688dd62",
   "metadata": {},
   "outputs": [],
   "source": []
  }
 ],
 "metadata": {
  "kernelspec": {
   "display_name": "Python 3",
   "language": "python",
   "name": "python3"
  },
  "language_info": {
   "codemirror_mode": {
    "name": "ipython",
    "version": 3
   },
   "file_extension": ".py",
   "mimetype": "text/x-python",
   "name": "python",
   "nbconvert_exporter": "python",
   "pygments_lexer": "ipython3",
   "version": "3.13.3"
  }
 },
 "nbformat": 4,
 "nbformat_minor": 5
}
